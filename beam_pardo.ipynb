{
 "cells": [
  {
   "cell_type": "code",
   "execution_count": 1,
   "metadata": {},
   "outputs": [
    {
     "name": "stderr",
     "output_type": "stream",
     "text": [
      "/home/james/.local/lib/python3.5/site-packages/apache_beam/__init__.py:84: UserWarning: Running the Apache Beam SDK on Python 3 is not yet fully supported. You may encounter buggy behavior or missing features.\n",
      "  'Running the Apache Beam SDK on Python 3 is not yet fully supported. '\n"
     ]
    }
   ],
   "source": [
    "import apache_beam as beam"
   ]
  },
  {
   "cell_type": "raw",
   "metadata": {},
   "source": [
    "# 1. DoFn is beam class that defines a distributed processing function\n",
    "#   it contains all the logics to run the user porvided function parallely\n",
    "#   on different machines\n",
    "# 2. ParDo core element-wise transform in apache beam, Invoking user specified function on each elements\n",
    "#    on input Pcollection to produce zero or more output elements , all are which collected in output PCollection \n",
    "# 3. Inside of the class function name should be process\n",
    "# 4. ParDo by default returns multiple elements like flat map. should be handled as we requried "
   ]
  },
  {
   "cell_type": "code",
   "execution_count": 38,
   "metadata": {},
   "outputs": [],
   "source": [
    "\n",
    "class SplitRow(beam.DoFn):\n",
    "    def process(self, element):\n",
    "        return [element.split(',')]"
   ]
  },
  {
   "cell_type": "code",
   "execution_count": 18,
   "metadata": {},
   "outputs": [],
   "source": [
    "class FilterRow(beam.DoFn):\n",
    "    def process(self, element):\n",
    "        if element[3]=='Accounts':\n",
    "            return [element]\n",
    "        "
   ]
  },
  {
   "cell_type": "code",
   "execution_count": 21,
   "metadata": {},
   "outputs": [],
   "source": [
    "class EmployeePair(beam.DoFn):\n",
    "    def process(self,element):\n",
    "        return[(element[3]+','+element[1],1)]\n",
    "        "
   ]
  },
  {
   "cell_type": "code",
   "execution_count": 32,
   "metadata": {},
   "outputs": [],
   "source": [
    "class counting(beam.DoFn):\n",
    "    def process(self,element):\n",
    "        (key,value)=element\n",
    "        return[(key,sum(value))]"
   ]
  },
  {
   "cell_type": "code",
   "execution_count": 36,
   "metadata": {},
   "outputs": [
    {
     "name": "stderr",
     "output_type": "stream",
     "text": [
      "WARNING:root:Deleting 1 existing files in target path matching: -*-of-%(num_shards)05d\n"
     ]
    },
    {
     "data": {
      "text/plain": [
       "<apache_beam.runners.portability.fn_api_runner.RunnerResult at 0x7f8719955d30>"
      ]
     },
     "execution_count": 36,
     "metadata": {},
     "output_type": "execute_result"
    }
   ],
   "source": [
    "p1 = beam.Pipeline()\n",
    "attendance_count =(\n",
    "        p1\n",
    "        | 'reading from a file'>>beam.io.ReadFromText('/home/james/beam/dept-data.txt')\n",
    "        | beam.ParDo(SplitRow())\n",
    "       #| 'spliting a row'>>beam.Map(lambda ele: ele.split(','))\n",
    "       # we can use lamda in ParDo\n",
    "       #| beam.ParDo(lambda ele: ele.split(','))\n",
    "        | beam.ParDo(FilterRow())\n",
    "       #| 'filtering only account dept'>>beam.Filter(lambda rcd: rcd[3] == 'Accounts')\n",
    "        | beam.ParDo(EmployeePair())\n",
    "       #| beam.Map(lambda x: (x[1],1))\n",
    "        | beam.GroupByKey()\n",
    "        | beam.ParDo(counting())\n",
    "       #| beam.CombinePerKey(sum)\n",
    "        | 'writing to a file'>>beam.io.WriteToText('/home/james/beam/out2')\n",
    "        \n",
    "    \n",
    ")\n",
    "p1.run()"
   ]
  },
  {
   "cell_type": "code",
   "execution_count": 37,
   "metadata": {},
   "outputs": [
    {
     "name": "stdout",
     "output_type": "stream",
     "text": [
      "('Accounts,Rebekah', 31)\r\n",
      "('Accounts,Kumiko', 31)\r\n",
      "('Accounts,Gaston', 31)\r\n",
      "('Accounts,Marco', 31)\r\n",
      "('Accounts,Ayumi', 30)\r\n",
      "('Accounts,Edouard', 31)\r\n",
      "('Accounts,Kyle', 62)\r\n",
      "('Accounts,Itoe', 31)\r\n"
     ]
    }
   ],
   "source": [
    "! cat beam/out2-00000-of-00001"
   ]
  },
  {
   "cell_type": "code",
   "execution_count": null,
   "metadata": {},
   "outputs": [],
   "source": []
  }
 ],
 "metadata": {
  "kernelspec": {
   "display_name": "Python 3",
   "language": "python",
   "name": "python3"
  },
  "language_info": {
   "codemirror_mode": {
    "name": "ipython",
    "version": 3
   },
   "file_extension": ".py",
   "mimetype": "text/x-python",
   "name": "python",
   "nbconvert_exporter": "python",
   "pygments_lexer": "ipython3",
   "version": "3.5.2"
  }
 },
 "nbformat": 4,
 "nbformat_minor": 2
}
