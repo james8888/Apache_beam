{
 "cells": [
  {
   "cell_type": "code",
   "execution_count": 1,
   "metadata": {},
   "outputs": [
    {
     "name": "stderr",
     "output_type": "stream",
     "text": [
      "/home/james/.local/lib/python3.5/site-packages/apache_beam/__init__.py:84: UserWarning: Running the Apache Beam SDK on Python 3 is not yet fully supported. You may encounter buggy behavior or missing features.\n",
      "  'Running the Apache Beam SDK on Python 3 is not yet fully supported. '\n"
     ]
    }
   ],
   "source": [
    "import apache_beam as beam"
   ]
  },
  {
   "cell_type": "code",
   "execution_count": 7,
   "metadata": {},
   "outputs": [
    {
     "name": "stderr",
     "output_type": "stream",
     "text": [
      "WARNING:root:Deleting 1 existing files in target path matching: -*-of-%(num_shards)05d\n",
      "WARNING:root:Deleting 1 existing files in target path matching: -*-of-%(num_shards)05d\n"
     ]
    },
    {
     "data": {
      "text/plain": [
       "<apache_beam.runners.portability.fn_api_runner.RunnerResult at 0x7fbb175936d8>"
      ]
     },
     "execution_count": 7,
     "metadata": {},
     "output_type": "execute_result"
    }
   ],
   "source": [
    "p1 = beam.Pipeline()\n",
    "initial_collection =(\n",
    "        p1\n",
    "        | 'reading from a file'>>beam.io.ReadFromText('/home/james/beam/dept-data.txt')\n",
    "        | 'spliting a row'>>beam.Map(lambda ele: ele.split(','))\n",
    ")\n",
    "account_count=(\n",
    "        initial_collection\n",
    "        | 'filtering only account dept'>>beam.Filter(lambda rcd: rcd[3] == 'Accounts')\n",
    "        | 'mapping ac names'>>beam.Map(lambda x: ('Ac '+x[1],1))\n",
    "        | 'counting ac names'>>beam.CombinePerKey(sum)\n",
    "        | 'writing to a ac count file'>>beam.io.WriteToText('/home/james/beam/ac1')\n",
    "   \n",
    "   \n",
    ")\n",
    "hr_count=(\n",
    "        initial_collection\n",
    "        | 'filtering only hr dept'>>beam.Filter(lambda rcd: rcd[3] == 'HR')\n",
    "        | 'mapping hr names'>>beam.Map(lambda x: ('HR '+x[1],1))\n",
    "        | 'counting hr names'>>beam.CombinePerKey(sum)\n",
    "        | 'writing to a hr count file'>>beam.io.WriteToText('/home/james/beam/hr1')\n",
    "   \n",
    "   \n",
    ")\n",
    "p1.run()"
   ]
  },
  {
   "cell_type": "code",
   "execution_count": 8,
   "metadata": {},
   "outputs": [
    {
     "name": "stdout",
     "output_type": "stream",
     "text": [
      "('Ac Kyle', 62)\r\n",
      "('Ac Marco', 31)\r\n",
      "('Ac Itoe', 31)\r\n",
      "('Ac Gaston', 31)\r\n",
      "('Ac Rebekah', 31)\r\n",
      "('Ac Ayumi', 30)\r\n",
      "('Ac Edouard', 31)\r\n",
      "('Ac Kumiko', 31)\r\n"
     ]
    }
   ],
   "source": [
    "! cat beam/ac1-00000-of-00001"
   ]
  },
  {
   "cell_type": "code",
   "execution_count": 9,
   "metadata": {},
   "outputs": [
    {
     "name": "stdout",
     "output_type": "stream",
     "text": [
      "('HR Mindy', 31)\r\n",
      "('HR Kirk', 31)\r\n",
      "('HR Vicky', 31)\r\n",
      "('HR Kaori', 31)\r\n",
      "('HR Olga', 31)\r\n",
      "('HR Richard', 31)\r\n",
      "('HR Leslie', 31)\r\n",
      "('HR Oscar', 31)\r\n",
      "('HR Beryl', 62)\r\n"
     ]
    }
   ],
   "source": [
    "! cat beam/hr1-00000-of-00001"
   ]
  },
  {
   "cell_type": "markdown",
   "metadata": {},
   "source": [
    "Flatten() function use to merge multiple pcollection into one\n",
    "If indiviual files are writting for each pcollection then merged file will not be written\n"
   ]
  },
  {
   "cell_type": "code",
   "execution_count": 13,
   "metadata": {},
   "outputs": [
    {
     "name": "stderr",
     "output_type": "stream",
     "text": [
      "WARNING:root:Deleting 1 existing files in target path matching: -*-of-%(num_shards)05d\n"
     ]
    },
    {
     "data": {
      "text/plain": [
       "<apache_beam.runners.portability.fn_api_runner.RunnerResult at 0x7fbb1849def0>"
      ]
     },
     "execution_count": 13,
     "metadata": {},
     "output_type": "execute_result"
    }
   ],
   "source": [
    "p1 = beam.Pipeline()\n",
    "initial_collection =(\n",
    "        p1\n",
    "        | 'reading from a file'>>beam.io.ReadFromText('/home/james/beam/dept-data.txt')\n",
    "        | 'spliting a row'>>beam.Map(lambda ele: ele.split(','))\n",
    ")\n",
    "account_count=(\n",
    "        initial_collection\n",
    "        | 'filtering only account dept'>>beam.Filter(lambda rcd: rcd[3] == 'Accounts')\n",
    "        | 'mapping ac names'>>beam.Map(lambda x: ('Ac '+x[1],1))\n",
    "        | 'counting ac names'>>beam.CombinePerKey(sum)\n",
    "        #| 'writing to a ac count file'>>beam.io.WriteToText('/home/james/beam/ac1')\n",
    "   \n",
    "   \n",
    ")\n",
    "hr_count=(\n",
    "        initial_collection\n",
    "        | 'filtering only hr dept'>>beam.Filter(lambda rcd: rcd[3] == 'HR')\n",
    "        | 'mapping hr names'>>beam.Map(lambda x: ('HR '+x[1],1))\n",
    "        | 'counting hr names'>>beam.CombinePerKey(sum)\n",
    "       # | 'writing to a hr count file'>>beam.io.WriteToText('/home/james/beam/hr1')\n",
    "   \n",
    "   \n",
    ")\n",
    "both_merge = (\n",
    "        (account_count,hr_count)\n",
    "        |beam.Flatten()\n",
    "        | 'writing to a ac & hr count file'>>beam.io.WriteToText('/home/james/beam/both1')\n",
    ")\n",
    "\n",
    "p1.run()"
   ]
  },
  {
   "cell_type": "code",
   "execution_count": 14,
   "metadata": {},
   "outputs": [
    {
     "name": "stdout",
     "output_type": "stream",
     "text": [
      "('Ac Kyle', 62)\r\n",
      "('Ac Marco', 31)\r\n",
      "('Ac Itoe', 31)\r\n",
      "('Ac Gaston', 31)\r\n",
      "('Ac Rebekah', 31)\r\n",
      "('Ac Ayumi', 30)\r\n",
      "('Ac Edouard', 31)\r\n",
      "('Ac Kumiko', 31)\r\n",
      "('HR Mindy', 31)\r\n",
      "('HR Kirk', 31)\r\n",
      "('HR Vicky', 31)\r\n",
      "('HR Kaori', 31)\r\n",
      "('HR Olga', 31)\r\n",
      "('HR Richard', 31)\r\n",
      "('HR Leslie', 31)\r\n",
      "('HR Oscar', 31)\r\n",
      "('HR Beryl', 62)\r\n"
     ]
    }
   ],
   "source": [
    "! cat beam/both1-00000-of-00001"
   ]
  },
  {
   "cell_type": "code",
   "execution_count": null,
   "metadata": {},
   "outputs": [],
   "source": []
  },
  {
   "cell_type": "code",
   "execution_count": null,
   "metadata": {},
   "outputs": [],
   "source": []
  }
 ],
 "metadata": {
  "kernelspec": {
   "display_name": "Python 3",
   "language": "python",
   "name": "python3"
  },
  "language_info": {
   "codemirror_mode": {
    "name": "ipython",
    "version": 3
   },
   "file_extension": ".py",
   "mimetype": "text/x-python",
   "name": "python",
   "nbconvert_exporter": "python",
   "pygments_lexer": "ipython3",
   "version": "3.7.4"
  }
 },
 "nbformat": 4,
 "nbformat_minor": 2
}
