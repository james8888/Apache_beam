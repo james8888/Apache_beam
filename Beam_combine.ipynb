{
 "cells": [
  {
   "cell_type": "raw",
   "metadata": {},
   "source": [
    "Combiner:\n",
    "\n",
    "Combine is a Beam transform for combining collections of elements or values in your data. Combine has variants that work on entire PCollections, and some that combine the values for each key in PCollections of key/value pairs.\n",
    "\n",
    "When you apply a Combine transform, you must provide the function that contains the logic for combining the elements or values. The combining function should be commutative and associative, as the function is not necessarily invoked exactly once on all values with a given key. Because the input data (including the value collection) may be distributed across multiple workers, the combining function might be called multiple times to perform partial combining on subsets of the value collection. The Beam SDK also provides some pre-built combine functions for common numeric combination operations such as sum, min, and max.\n",
    "\n",
    "CombineFn:\n",
    "\n",
    "Simple combine operations, such as sums, can usually be implemented as a simple function. More complex combination operations might require you to create a subclass of CombineFn that has an accumulation type distinct from the input/output type"
   ]
  },
  {
   "cell_type": "markdown",
   "metadata": {},
   "source": [
    "CombineFn: and Overriding methods\n",
    "\n",
    "For more complex combine functions, you can define a subclass of CombineFn. You should use CombineFn if the combine function requires a more sophisticated accumulator, must perform additional pre- or post-processing, might change the output type, or takes the key into account.\n",
    "\n",
    "A general combining operation consists of four operations. When you create a subclass of CombineFn, you must provide four operations by overriding the corresponding methods:\n",
    "\n",
    "Accumulator:\n",
    "\n",
    "    Create Accumulator creates a new “local” accumulator. In the example case, taking a mean average, a local accumulator tracks the running sum of values (the numerator value for our final average division) and the number of values summed so far (the denominator value). It may be called any number of times in a distributed fashion.\n",
    "\n",
    "Add Input:\n",
    "\n",
    "    Add Input adds an input element to an accumulator, returning the accumulator value. In our example, it would update the sum and increment the count. It may also be invoked in parallel.\n",
    "\n",
    "merge Accumulators:\n",
    "\n",
    "    Merge Accumulators merges several accumulators into a single accumulator; this is how data in multiple accumulators is combined before the final calculation. In the case of the mean average computation, the accumulators representing each portion of the division are merged together. It may be called again on its outputs any number of times.\n",
    "\n",
    "Extract output:\n",
    "\n",
    "    Extract Output performs the final computation. In the case of computing a mean average, this means dividing the combined sum of all the values by the number of values summed. It is called once on the final, merged accumulator.\n"
   ]
  },
  {
   "cell_type": "code",
   "execution_count": 1,
   "metadata": {},
   "outputs": [
    {
     "name": "stderr",
     "output_type": "stream",
     "text": [
      "/home/james/.local/lib/python3.5/site-packages/apache_beam/__init__.py:84: UserWarning: Running the Apache Beam SDK on Python 3 is not yet fully supported. You may encounter buggy behavior or missing features.\n",
      "  'Running the Apache Beam SDK on Python 3 is not yet fully supported. '\n"
     ]
    }
   ],
   "source": [
    "import apache_beam as beam"
   ]
  },
  {
   "cell_type": "code",
   "execution_count": 9,
   "metadata": {},
   "outputs": [
    {
     "name": "stderr",
     "output_type": "stream",
     "text": [
      "WARNING:root:Deleting 1 existing files in target path matching: -*-of-%(num_shards)05d\n"
     ]
    },
    {
     "data": {
      "text/plain": [
       "<apache_beam.runners.portability.fn_api_runner.RunnerResult at 0x7fad88940c50>"
      ]
     },
     "execution_count": 9,
     "metadata": {},
     "output_type": "execute_result"
    }
   ],
   "source": [
    "#passing simple function in to CombineGlobally()\n",
    "p = beam.Pipeline()\n",
    "\n",
    "small_sum =(\n",
    "    p\n",
    "    | beam.Create([15,5,7,7,9,23,13,5])\n",
    "    | beam.CombineGlobally(sum)\n",
    "    | 'write result'>> beam.io.WriteToText('/home/james/beam/comb_out')\n",
    ")\n",
    "p.run()"
   ]
  },
  {
   "cell_type": "code",
   "execution_count": 10,
   "metadata": {},
   "outputs": [
    {
     "name": "stdout",
     "output_type": "stream",
     "text": [
      "84\r\n"
     ]
    }
   ],
   "source": [
    "! cat beam/comb_out-00000-of-00001"
   ]
  },
  {
   "cell_type": "code",
   "execution_count": 20,
   "metadata": {},
   "outputs": [],
   "source": [
    "class averageFn(beam.CombineFn):\n",
    "    \n",
    "    def create_accumulator(self):   # this function works locally in diff systems\n",
    "        return(0.0,0) # initalizing sum and count\n",
    "    \n",
    "    def add_input(self, sum_count,input): # this function works locally in diff systems\n",
    "        (sum,count)=sum_count\n",
    "        return sum+input, count+1\n",
    "    \n",
    "    def merge_accumulators(self,accumulators): #merges all values from diff systesm\n",
    "        ind_sum,ind_count =zip(*accumulators) # zip[((27,3),(39,3), (18,2)] --> [(27,39,18),(3,3,2))\n",
    "        return sum(ind_sum),sum(ind_count)    # (84,8)\n",
    "    \n",
    "    def extract_output(self, sum_count):\n",
    "        sum,count = sum_count # combine globally using combineFn\n",
    "        return sum/count if count else float('NaN')\n",
    "        \n",
    "        "
   ]
  },
  {
   "cell_type": "code",
   "execution_count": 21,
   "metadata": {},
   "outputs": [
    {
     "name": "stderr",
     "output_type": "stream",
     "text": [
      "WARNING:root:Deleting 1 existing files in target path matching: -*-of-%(num_shards)05d\n"
     ]
    },
    {
     "data": {
      "text/plain": [
       "<apache_beam.runners.portability.fn_api_runner.RunnerResult at 0x7fad889405c0>"
      ]
     },
     "execution_count": 21,
     "metadata": {},
     "output_type": "execute_result"
    }
   ],
   "source": [
    "p = beam.Pipeline()\n",
    "\n",
    "small_sum =(\n",
    "    p\n",
    "    | beam.Create([15,5,7,7,9,23,13,5])\n",
    "    | beam.CombineGlobally(averageFn())\n",
    "    | 'write result'>> beam.io.WriteToText('/home/james/beam/comb_out')\n",
    ")\n",
    "p.run()"
   ]
  },
  {
   "cell_type": "code",
   "execution_count": 22,
   "metadata": {},
   "outputs": [
    {
     "name": "stdout",
     "output_type": "stream",
     "text": [
      "10.5\r\n"
     ]
    }
   ],
   "source": [
    "! cat beam/comb_out-00000-of-00001"
   ]
  },
  {
   "cell_type": "code",
   "execution_count": null,
   "metadata": {},
   "outputs": [],
   "source": []
  }
 ],
 "metadata": {
  "kernelspec": {
   "display_name": "Python 3",
   "language": "python",
   "name": "python3"
  },
  "language_info": {
   "codemirror_mode": {
    "name": "ipython",
    "version": 3
   },
   "file_extension": ".py",
   "mimetype": "text/x-python",
   "name": "python",
   "nbconvert_exporter": "python",
   "pygments_lexer": "ipython3",
   "version": "3.5.2"
  }
 },
 "nbformat": 4,
 "nbformat_minor": 2
}
