{
 "cells": [
  {
   "cell_type": "code",
   "execution_count": 3,
   "metadata": {},
   "outputs": [
    {
     "name": "stderr",
     "output_type": "stream",
     "text": [
      "/home/james/.local/lib/python3.5/site-packages/apache_beam/__init__.py:84: UserWarning: Running the Apache Beam SDK on Python 3 is not yet fully supported. You may encounter buggy behavior or missing features.\n",
      "  'Running the Apache Beam SDK on Python 3 is not yet fully supported. '\n"
     ]
    }
   ],
   "source": [
    "import apache_beam as beam"
   ]
  },
  {
   "cell_type": "code",
   "execution_count": 20,
   "metadata": {},
   "outputs": [],
   "source": []
  },
  {
   "cell_type": "code",
   "execution_count": 42,
   "metadata": {},
   "outputs": [
    {
     "name": "stderr",
     "output_type": "stream",
     "text": [
      "WARNING:root:Deleting 1 existing files in target path matching: -*-of-%(num_shards)05d\n"
     ]
    },
    {
     "data": {
      "text/plain": [
       "<apache_beam.runners.portability.fn_api_runner.RunnerResult at 0x7f820fc3b9b0>"
      ]
     },
     "execution_count": 42,
     "metadata": {},
     "output_type": "execute_result"
    }
   ],
   "source": [
    "p1 = beam.Pipeline()\n",
    "attendance_count =(\n",
    "        p1\n",
    "        | 'reading from a file'>>beam.io.ReadFromText('/home/james/beam/dept-data.txt')\n",
    "        | 'spliting a row'>>beam.Map(lambda ele: ele.split(','))\n",
    "        | 'filtering only account dept'>>beam.Filter(lambda rcd: rcd[3] == 'Accounts')\n",
    "        | beam.Map(lambda x: (x[1],1))\n",
    "        | beam.CombinePerKey(sum)\n",
    "        | 'writing to a file'>>beam.io.WriteToText('/home/james/beam/out1')\n",
    "        \n",
    "    \n",
    ")\n",
    "p1.run()\n"
   ]
  },
  {
   "cell_type": "code",
   "execution_count": 47,
   "metadata": {},
   "outputs": [
    {
     "name": "stderr",
     "output_type": "stream",
     "text": [
      "WARNING:root:Deleting 1 existing files in target path matching: -*-of-%(num_shards)05d\n"
     ]
    }
   ],
   "source": [
    "#if we are using with beam syntex then no need to give p1.run() command\n",
    "with beam.Pipeline() as p1:\n",
    "    #p1 = beam.Pipeline()\n",
    "    attendance_count =(\n",
    "        p1\n",
    "        | 'reading from a file'>>beam.io.ReadFromText('/home/james/beam/dept-data.txt')\n",
    "        | 'spliting a row'>>beam.Map(lambda ele: ele.split(','))\n",
    "        | 'filtering only account dept'>>beam.Filter(lambda rcd: rcd[3] == 'Accounts')\n",
    "        | beam.Map(lambda x: (x[1],1))\n",
    "        | beam.CombinePerKey(sum)\n",
    "        | 'writing to a file'>>beam.io.WriteToText('/home/james/beam/out1')\n",
    "        \n",
    "    \n",
    "   )\n",
    "#p1.run()"
   ]
  },
  {
   "cell_type": "code",
   "execution_count": 48,
   "metadata": {},
   "outputs": [
    {
     "name": "stdout",
     "output_type": "stream",
     "text": [
      "('Marco', 31)\r\n",
      "('Gaston', 31)\r\n",
      "('Kumiko', 31)\r\n",
      "('Ayumi', 30)\r\n",
      "('Edouard', 31)\r\n",
      "('Rebekah', 31)\r\n",
      "('Kyle', 62)\r\n",
      "('Itoe', 31)\r\n"
     ]
    }
   ],
   "source": [
    "! cat beam/out1-00000-of-00001\n"
   ]
  },
  {
   "cell_type": "code",
   "execution_count": null,
   "metadata": {},
   "outputs": [],
   "source": []
  }
 ],
 "metadata": {
  "kernelspec": {
   "display_name": "Python 3",
   "language": "python",
   "name": "python3"
  },
  "language_info": {
   "codemirror_mode": {
    "name": "ipython",
    "version": 3
   },
   "file_extension": ".py",
   "mimetype": "text/x-python",
   "name": "python",
   "nbconvert_exporter": "python",
   "pygments_lexer": "ipython3",
   "version": "3.5.2"
  }
 },
 "nbformat": 4,
 "nbformat_minor": 2
}
