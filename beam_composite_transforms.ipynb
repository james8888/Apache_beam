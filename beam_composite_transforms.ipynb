{
 "cells": [
  {
   "cell_type": "raw",
   "metadata": {},
   "source": [
    "# Composite transforms:\n",
    "\n",
    "Transforms can have a nested structure, where a complex transform performs multiple simpler transforms (such as more than one ParDo, Combine, GroupByKey, or even other composite transforms). These transforms are called composite transforms. Nesting multiple transforms inside a single composite transform can make your code more modular and easier to understand."
   ]
  },
  {
   "cell_type": "code",
   "execution_count": 1,
   "metadata": {},
   "outputs": [
    {
     "name": "stderr",
     "output_type": "stream",
     "text": [
      "/home/james/.local/lib/python3.5/site-packages/apache_beam/__init__.py:84: UserWarning: Running the Apache Beam SDK on Python 3 is not yet fully supported. You may encounter buggy behavior or missing features.\n",
      "  'Running the Apache Beam SDK on Python 3 is not yet fully supported. '\n"
     ]
    }
   ],
   "source": [
    "import apache_beam as beam"
   ]
  },
  {
   "cell_type": "code",
   "execution_count": 28,
   "metadata": {},
   "outputs": [],
   "source": [
    "def filter_on_count(element):\n",
    "    name,count = element\n",
    "    if count>30:\n",
    "        return element\n",
    "    \n",
    "def format_output(element):\n",
    "    name, count = element\n",
    "    return ', '.join((name,str(count),'Regular employee'))\n",
    "    "
   ]
  },
  {
   "cell_type": "code",
   "execution_count": 29,
   "metadata": {},
   "outputs": [
    {
     "name": "stderr",
     "output_type": "stream",
     "text": [
      "WARNING:root:Deleting 1 existing files in target path matching: -*-of-%(num_shards)05d\n"
     ]
    },
    {
     "data": {
      "text/plain": [
       "<apache_beam.runners.portability.fn_api_runner.RunnerResult at 0x7f333f8c0d30>"
      ]
     },
     "execution_count": 29,
     "metadata": {},
     "output_type": "execute_result"
    }
   ],
   "source": [
    "p1 = beam.Pipeline()\n",
    "initial_collection =(\n",
    "        p1\n",
    "        | 'reading from a file'>>beam.io.ReadFromText('/home/james/beam/dept-data.txt')\n",
    "        | 'spliting a row'>>beam.Map(lambda ele: ele.split(','))\n",
    ")\n",
    "account_count=(\n",
    "        initial_collection\n",
    "        | 'filtering only account dept'>>beam.Filter(lambda rcd: rcd[3] == 'Accounts')\n",
    "        | 'mapping ac names'>>beam.Map(lambda x: ('Ac '+x[1],1))\n",
    "        | 'counting ac names'>>beam.CombinePerKey(sum) #1\n",
    "        | 'filtering on ac count'>> beam.Filter(filter_on_count) #2\n",
    "        | 'output for ac'>>beam.Map(format_output) #3\n",
    "        #| 'writing to a ac count file'>>beam.io.WriteToText('/home/james/beam/ac1')\n",
    "   \n",
    "   \n",
    ")\n",
    "hr_count=(\n",
    "        initial_collection\n",
    "        | 'filtering only hr dept'>>beam.Filter(lambda rcd: rcd[3] == 'HR')\n",
    "        | 'mapping hr names'>>beam.Map(lambda x: ('HR '+x[1],1))\n",
    "        | 'counting hr names'>>beam.CombinePerKey(sum) #1\n",
    "        | 'filtering on hr count'>> beam.Filter(filter_on_count) #2\n",
    "        | 'output for hr'>>beam.Map(format_output) #3\n",
    "       # | 'writing to a hr count file'>>beam.io.WriteToText('/home/james/beam/hr1')\n",
    "   \n",
    "   \n",
    ")\n",
    "both_merge = (\n",
    "        (account_count,hr_count)\n",
    "        |beam.Flatten()\n",
    "        | 'writing to a ac & hr count file'>>beam.io.WriteToText('/home/james/beam/both1')\n",
    ")\n",
    "\n",
    "p1.run()"
   ]
  },
  {
   "cell_type": "code",
   "execution_count": 30,
   "metadata": {},
   "outputs": [
    {
     "name": "stdout",
     "output_type": "stream",
     "text": [
      "HR Leslie, 31, Regular employee\r\n",
      "HR Vicky, 31, Regular employee\r\n",
      "HR Beryl, 62, Regular employee\r\n",
      "HR Olga, 31, Regular employee\r\n",
      "HR Mindy, 31, Regular employee\r\n",
      "HR Oscar, 31, Regular employee\r\n",
      "HR Richard, 31, Regular employee\r\n",
      "HR Kirk, 31, Regular employee\r\n",
      "HR Kaori, 31, Regular employee\r\n",
      "Ac Edouard, 31, Regular employee\r\n",
      "Ac Rebekah, 31, Regular employee\r\n",
      "Ac Gaston, 31, Regular employee\r\n",
      "Ac Kumiko, 31, Regular employee\r\n",
      "Ac Itoe, 31, Regular employee\r\n",
      "Ac Marco, 31, Regular employee\r\n",
      "Ac Kyle, 62, Regular employee\r\n"
     ]
    }
   ],
   "source": [
    "! cat beam/both1-00000-of-00001"
   ]
  },
  {
   "cell_type": "raw",
   "metadata": {},
   "source": [
    "# 1, #2, #3 repeatig so we can combine it"
   ]
  },
  {
   "cell_type": "code",
   "execution_count": 32,
   "metadata": {},
   "outputs": [],
   "source": [
    "class my_transforms(beam.PTransform):\n",
    "    def expand(self, input_cols):\n",
    "        a = (\n",
    "            input_cols\n",
    "                | 'counting ac names'>>beam.CombinePerKey(sum) #1\n",
    "                | 'filtering on ac count'>> beam.Filter(filter_on_count) #2\n",
    "                | 'output for ac'>>beam.Map(format_output) #3\n",
    "        )\n",
    "        return a"
   ]
  },
  {
   "cell_type": "code",
   "execution_count": 33,
   "metadata": {},
   "outputs": [
    {
     "name": "stderr",
     "output_type": "stream",
     "text": [
      "WARNING:root:Deleting 1 existing files in target path matching: -*-of-%(num_shards)05d\n"
     ]
    },
    {
     "data": {
      "text/plain": [
       "<apache_beam.runners.portability.fn_api_runner.RunnerResult at 0x7f333f84f4a8>"
      ]
     },
     "execution_count": 33,
     "metadata": {},
     "output_type": "execute_result"
    }
   ],
   "source": [
    "p1 = beam.Pipeline()\n",
    "initial_collection =(\n",
    "        p1\n",
    "        | 'reading from a file'>>beam.io.ReadFromText('/home/james/beam/dept-data.txt')\n",
    "        | 'spliting a row'>>beam.Map(lambda ele: ele.split(','))\n",
    ")\n",
    "account_count=(\n",
    "        initial_collection\n",
    "        | 'filtering only account dept'>>beam.Filter(lambda rcd: rcd[3] == 'Accounts')\n",
    "        | 'mapping ac names'>>beam.Map(lambda x: ('Ac '+x[1],1))\n",
    "        | 'composite transform for ac'>>my_transforms()\n",
    "        #| 'writing to a ac count file'>>beam.io.WriteToText('/home/james/beam/ac1')\n",
    "   \n",
    "   \n",
    ")\n",
    "hr_count=(\n",
    "        initial_collection\n",
    "        | 'filtering only hr dept'>>beam.Filter(lambda rcd: rcd[3] == 'HR')\n",
    "        | 'mapping hr names'>>beam.Map(lambda x: ('HR '+x[1],1))\n",
    "        | 'composite transform for hr'>>my_transforms()\n",
    "       # | 'writing to a hr count file'>>beam.io.WriteToText('/home/james/beam/hr1')\n",
    "   \n",
    "   \n",
    ")\n",
    "both_merge = (\n",
    "        (account_count,hr_count)\n",
    "        |beam.Flatten()\n",
    "        | 'writing to a ac & hr count file'>>beam.io.WriteToText('/home/james/beam/both1')\n",
    ")\n",
    "\n",
    "p1.run()"
   ]
  },
  {
   "cell_type": "code",
   "execution_count": 34,
   "metadata": {},
   "outputs": [
    {
     "name": "stdout",
     "output_type": "stream",
     "text": [
      "HR Leslie, 31, Regular employee\r\n",
      "HR Vicky, 31, Regular employee\r\n",
      "HR Beryl, 62, Regular employee\r\n",
      "HR Olga, 31, Regular employee\r\n",
      "HR Mindy, 31, Regular employee\r\n",
      "HR Oscar, 31, Regular employee\r\n",
      "HR Richard, 31, Regular employee\r\n",
      "HR Kirk, 31, Regular employee\r\n",
      "HR Kaori, 31, Regular employee\r\n",
      "Ac Edouard, 31, Regular employee\r\n",
      "Ac Rebekah, 31, Regular employee\r\n",
      "Ac Gaston, 31, Regular employee\r\n",
      "Ac Kumiko, 31, Regular employee\r\n",
      "Ac Itoe, 31, Regular employee\r\n",
      "Ac Marco, 31, Regular employee\r\n",
      "Ac Kyle, 62, Regular employee\r\n"
     ]
    }
   ],
   "source": [
    "! cat beam/both1-00000-of-00001"
   ]
  },
  {
   "cell_type": "code",
   "execution_count": null,
   "metadata": {},
   "outputs": [],
   "source": []
  }
 ],
 "metadata": {
  "kernelspec": {
   "display_name": "Python 3",
   "language": "python",
   "name": "python3"
  },
  "language_info": {
   "codemirror_mode": {
    "name": "ipython",
    "version": 3
   },
   "file_extension": ".py",
   "mimetype": "text/x-python",
   "name": "python",
   "nbconvert_exporter": "python",
   "pygments_lexer": "ipython3",
   "version": "3.5.2"
  }
 },
 "nbformat": 4,
 "nbformat_minor": 2
}
